{
  "nbformat": 4,
  "nbformat_minor": 0,
  "metadata": {
    "colab": {
      "name": "Copy of Q1.ipynb",
      "provenance": [],
      "collapsed_sections": [],
      "include_colab_link": true
    },
    "kernelspec": {
      "name": "python3",
      "display_name": "Python 3"
    },
    "language_info": {
      "name": "python"
    }
  },
  "cells": [
    {
      "cell_type": "markdown",
      "metadata": {
        "id": "view-in-github",
        "colab_type": "text"
      },
      "source": [
        "<a href=\"https://colab.research.google.com/github/AmanKh9153/asdf/blob/main/Copy_of_Q1.ipynb\" target=\"_parent\"><img src=\"https://colab.research.google.com/assets/colab-badge.svg\" alt=\"Open In Colab\"/></a>"
      ]
    },
    {
      "cell_type": "markdown",
      "metadata": {
        "id": "mRqvKzLwDWq6"
      },
      "source": [
        "# Q1 : \n",
        "Dataset Used : http://ufldl.stanford.edu/housenumbers/"
      ]
    },
    {
      "cell_type": "markdown",
      "metadata": {
        "id": "rPYZyZUpDkC3"
      },
      "source": [
        "##### Pre Processing :\n",
        "Reference : https://github.com/aditya9211/SVHN-CNN/blob/master/data_preprocess.ipynb\n"
      ]
    },
    {
      "cell_type": "markdown",
      "metadata": {
        "id": "_MVYqIZpm4m3"
      },
      "source": [
        "Imports "
      ]
    },
    {
      "cell_type": "code",
      "metadata": {
        "id": "g5gi74gs78o_"
      },
      "source": [
        "import h5py\n",
        "import numpy as np\n",
        "import pandas as pd\n",
        "import seaborn as sn\n",
        "import matplotlib.pyplot as plt\n",
        "from scipy.linalg import eigh\n",
        "from sklearn.pipeline import make_pipeline\n",
        "from sklearn.naive_bayes import GaussianNB\n",
        "from sklearn.neighbors import KNeighborsClassifier\n",
        "from sklearn.preprocessing import StandardScaler\n",
        "from sklearn.decomposition import PCA, KernelPCA"
      ],
      "execution_count": null,
      "outputs": []
    },
    {
      "cell_type": "code",
      "metadata": {
        "id": "IAWSxAWDpnx7",
        "colab": {
          "base_uri": "https://localhost:8080/"
        },
        "outputId": "97057743-85a9-4756-bfd2-194e135887aa"
      },
      "source": [
        "from google.colab import drive\n",
        "drive.mount('/content/drive')"
      ],
      "execution_count": null,
      "outputs": [
        {
          "output_type": "stream",
          "name": "stdout",
          "text": [
            "Mounted at /content/drive\n"
          ]
        }
      ]
    },
    {
      "cell_type": "code",
      "metadata": {
        "id": "f2VaACpCMbUD"
      },
      "source": [
        ""
      ],
      "execution_count": null,
      "outputs": []
    },
    {
      "cell_type": "code",
      "metadata": {
        "id": "rJtGFXf0aCLC"
      },
      "source": [
        "path = '/content/drive/MyDrive/Q1_Dataset.h5' # please change path accordingly "
      ],
      "execution_count": null,
      "outputs": []
    },
    {
      "cell_type": "code",
      "metadata": {
        "id": "brzUZwWdK8yl"
      },
      "source": [
        "hf = h5py.File(path, 'r')\n",
        "hf.keys()\n",
        "with hf as f:\n",
        "    data = np.array( list(f['X_train']) )\n",
        "    all_labels = np.array( list(f['y_train']) ) \n",
        "    # print(data.shape)\n",
        "    X_test= np.array(list(f['X_test']))\n",
        "    # print(X_test.shape)\n",
        "    y_test = np.array(list(f['y_test']))\n",
        "    # print(y_test.shape)"
      ],
      "execution_count": null,
      "outputs": []
    },
    {
      "cell_type": "code",
      "metadata": {
        "id": "qWBMiekInTog"
      },
      "source": [
        "all_labels = all_labels.reshape(data.shape[0], 1)\n",
        "all_data = np.hstack((data.reshape(data.shape[0],1024), all_labels))\n",
        "# print(all_data)"
      ],
      "execution_count": null,
      "outputs": []
    },
    {
      "cell_type": "code",
      "metadata": {
        "id": "m4BNInO4wjlO",
        "colab": {
          "base_uri": "https://localhost:8080/",
          "height": 253
        },
        "outputId": "a1ac6e53-9d9b-474a-ad79-13c39afa9a01"
      },
      "source": [
        "df = pd.DataFrame(all_data)\n",
        "df.head(5)"
      ],
      "execution_count": null,
      "outputs": [
        {
          "output_type": "execute_result",
          "data": {
            "text/html": [
              "<div>\n",
              "<style scoped>\n",
              "    .dataframe tbody tr th:only-of-type {\n",
              "        vertical-align: middle;\n",
              "    }\n",
              "\n",
              "    .dataframe tbody tr th {\n",
              "        vertical-align: top;\n",
              "    }\n",
              "\n",
              "    .dataframe thead th {\n",
              "        text-align: right;\n",
              "    }\n",
              "</style>\n",
              "<table border=\"1\" class=\"dataframe\">\n",
              "  <thead>\n",
              "    <tr style=\"text-align: right;\">\n",
              "      <th></th>\n",
              "      <th>0</th>\n",
              "      <th>1</th>\n",
              "      <th>2</th>\n",
              "      <th>3</th>\n",
              "      <th>4</th>\n",
              "      <th>5</th>\n",
              "      <th>6</th>\n",
              "      <th>7</th>\n",
              "      <th>8</th>\n",
              "      <th>9</th>\n",
              "      <th>10</th>\n",
              "      <th>11</th>\n",
              "      <th>12</th>\n",
              "      <th>13</th>\n",
              "      <th>14</th>\n",
              "      <th>15</th>\n",
              "      <th>16</th>\n",
              "      <th>17</th>\n",
              "      <th>18</th>\n",
              "      <th>19</th>\n",
              "      <th>20</th>\n",
              "      <th>21</th>\n",
              "      <th>22</th>\n",
              "      <th>23</th>\n",
              "      <th>24</th>\n",
              "      <th>25</th>\n",
              "      <th>26</th>\n",
              "      <th>27</th>\n",
              "      <th>28</th>\n",
              "      <th>29</th>\n",
              "      <th>30</th>\n",
              "      <th>31</th>\n",
              "      <th>32</th>\n",
              "      <th>33</th>\n",
              "      <th>34</th>\n",
              "      <th>35</th>\n",
              "      <th>36</th>\n",
              "      <th>37</th>\n",
              "      <th>38</th>\n",
              "      <th>39</th>\n",
              "      <th>...</th>\n",
              "      <th>985</th>\n",
              "      <th>986</th>\n",
              "      <th>987</th>\n",
              "      <th>988</th>\n",
              "      <th>989</th>\n",
              "      <th>990</th>\n",
              "      <th>991</th>\n",
              "      <th>992</th>\n",
              "      <th>993</th>\n",
              "      <th>994</th>\n",
              "      <th>995</th>\n",
              "      <th>996</th>\n",
              "      <th>997</th>\n",
              "      <th>998</th>\n",
              "      <th>999</th>\n",
              "      <th>1000</th>\n",
              "      <th>1001</th>\n",
              "      <th>1002</th>\n",
              "      <th>1003</th>\n",
              "      <th>1004</th>\n",
              "      <th>1005</th>\n",
              "      <th>1006</th>\n",
              "      <th>1007</th>\n",
              "      <th>1008</th>\n",
              "      <th>1009</th>\n",
              "      <th>1010</th>\n",
              "      <th>1011</th>\n",
              "      <th>1012</th>\n",
              "      <th>1013</th>\n",
              "      <th>1014</th>\n",
              "      <th>1015</th>\n",
              "      <th>1016</th>\n",
              "      <th>1017</th>\n",
              "      <th>1018</th>\n",
              "      <th>1019</th>\n",
              "      <th>1020</th>\n",
              "      <th>1021</th>\n",
              "      <th>1022</th>\n",
              "      <th>1023</th>\n",
              "      <th>1024</th>\n",
              "    </tr>\n",
              "  </thead>\n",
              "  <tbody>\n",
              "    <tr>\n",
              "      <th>0</th>\n",
              "      <td>0.091154</td>\n",
              "      <td>0.094069</td>\n",
              "      <td>0.108886</td>\n",
              "      <td>-0.035054</td>\n",
              "      <td>-0.228108</td>\n",
              "      <td>-0.370502</td>\n",
              "      <td>-0.437514</td>\n",
              "      <td>-0.471995</td>\n",
              "      <td>-0.504882</td>\n",
              "      <td>-0.530542</td>\n",
              "      <td>-0.580063</td>\n",
              "      <td>-0.623999</td>\n",
              "      <td>-0.664684</td>\n",
              "      <td>-0.672830</td>\n",
              "      <td>-0.623956</td>\n",
              "      <td>-0.604024</td>\n",
              "      <td>-0.640433</td>\n",
              "      <td>-0.701465</td>\n",
              "      <td>-0.806688</td>\n",
              "      <td>-0.919460</td>\n",
              "      <td>-0.892061</td>\n",
              "      <td>-0.878379</td>\n",
              "      <td>-0.865421</td>\n",
              "      <td>-0.816361</td>\n",
              "      <td>-0.761561</td>\n",
              "      <td>-0.634714</td>\n",
              "      <td>-0.652844</td>\n",
              "      <td>-0.839951</td>\n",
              "      <td>-0.834990</td>\n",
              "      <td>-0.847458</td>\n",
              "      <td>-0.871794</td>\n",
              "      <td>-0.899079</td>\n",
              "      <td>0.101376</td>\n",
              "      <td>0.104630</td>\n",
              "      <td>0.124558</td>\n",
              "      <td>-0.019740</td>\n",
              "      <td>-0.174231</td>\n",
              "      <td>-0.333389</td>\n",
              "      <td>-0.401628</td>\n",
              "      <td>-0.448160</td>\n",
              "      <td>...</td>\n",
              "      <td>-0.995317</td>\n",
              "      <td>-0.933207</td>\n",
              "      <td>-1.018626</td>\n",
              "      <td>-0.867582</td>\n",
              "      <td>-0.822254</td>\n",
              "      <td>-0.883124</td>\n",
              "      <td>-0.886627</td>\n",
              "      <td>0.193325</td>\n",
              "      <td>0.188063</td>\n",
              "      <td>-0.112041</td>\n",
              "      <td>-0.139667</td>\n",
              "      <td>-0.182202</td>\n",
              "      <td>-0.221700</td>\n",
              "      <td>-0.277881</td>\n",
              "      <td>-0.341730</td>\n",
              "      <td>-0.379677</td>\n",
              "      <td>-0.415697</td>\n",
              "      <td>-0.437445</td>\n",
              "      <td>-0.435429</td>\n",
              "      <td>-0.463085</td>\n",
              "      <td>-0.503479</td>\n",
              "      <td>-0.550576</td>\n",
              "      <td>-0.589988</td>\n",
              "      <td>-0.640512</td>\n",
              "      <td>-0.661515</td>\n",
              "      <td>-0.637829</td>\n",
              "      <td>-0.600852</td>\n",
              "      <td>-0.583965</td>\n",
              "      <td>-0.545878</td>\n",
              "      <td>-0.526534</td>\n",
              "      <td>-0.545869</td>\n",
              "      <td>-0.572264</td>\n",
              "      <td>-0.603703</td>\n",
              "      <td>-0.647177</td>\n",
              "      <td>-0.705318</td>\n",
              "      <td>-0.705147</td>\n",
              "      <td>-0.726268</td>\n",
              "      <td>-0.748682</td>\n",
              "      <td>-0.787166</td>\n",
              "      <td>1.0</td>\n",
              "    </tr>\n",
              "    <tr>\n",
              "      <th>1</th>\n",
              "      <td>1.301847</td>\n",
              "      <td>1.295418</td>\n",
              "      <td>1.153358</td>\n",
              "      <td>0.655982</td>\n",
              "      <td>0.017951</td>\n",
              "      <td>-0.461645</td>\n",
              "      <td>-0.707210</td>\n",
              "      <td>-0.725850</td>\n",
              "      <td>-0.572881</td>\n",
              "      <td>-0.528181</td>\n",
              "      <td>-0.523158</td>\n",
              "      <td>-0.448617</td>\n",
              "      <td>-0.376608</td>\n",
              "      <td>-0.347844</td>\n",
              "      <td>-0.321914</td>\n",
              "      <td>-0.305100</td>\n",
              "      <td>-0.304707</td>\n",
              "      <td>-0.271561</td>\n",
              "      <td>-0.230996</td>\n",
              "      <td>-0.191878</td>\n",
              "      <td>-0.221475</td>\n",
              "      <td>-0.170686</td>\n",
              "      <td>-0.092828</td>\n",
              "      <td>-0.073471</td>\n",
              "      <td>-0.012328</td>\n",
              "      <td>0.037135</td>\n",
              "      <td>0.095148</td>\n",
              "      <td>0.052667</td>\n",
              "      <td>0.065480</td>\n",
              "      <td>0.095287</td>\n",
              "      <td>0.118887</td>\n",
              "      <td>0.119378</td>\n",
              "      <td>1.378315</td>\n",
              "      <td>1.357356</td>\n",
              "      <td>1.145189</td>\n",
              "      <td>0.529171</td>\n",
              "      <td>-0.110492</td>\n",
              "      <td>-0.384155</td>\n",
              "      <td>-0.505335</td>\n",
              "      <td>-0.593795</td>\n",
              "      <td>...</td>\n",
              "      <td>-0.987409</td>\n",
              "      <td>-0.885600</td>\n",
              "      <td>-0.617739</td>\n",
              "      <td>-0.148655</td>\n",
              "      <td>0.181455</td>\n",
              "      <td>0.256906</td>\n",
              "      <td>0.207978</td>\n",
              "      <td>1.174945</td>\n",
              "      <td>0.903052</td>\n",
              "      <td>0.404966</td>\n",
              "      <td>-0.173665</td>\n",
              "      <td>-0.485416</td>\n",
              "      <td>-0.541277</td>\n",
              "      <td>-0.532657</td>\n",
              "      <td>-0.598046</td>\n",
              "      <td>-0.839037</td>\n",
              "      <td>-0.914997</td>\n",
              "      <td>-0.821171</td>\n",
              "      <td>-0.840171</td>\n",
              "      <td>-0.968145</td>\n",
              "      <td>-1.000431</td>\n",
              "      <td>-0.998879</td>\n",
              "      <td>-1.002875</td>\n",
              "      <td>-0.988887</td>\n",
              "      <td>-0.943479</td>\n",
              "      <td>-0.916909</td>\n",
              "      <td>-0.883365</td>\n",
              "      <td>-0.854149</td>\n",
              "      <td>-0.883793</td>\n",
              "      <td>-0.910702</td>\n",
              "      <td>-0.929865</td>\n",
              "      <td>-0.934136</td>\n",
              "      <td>-0.930935</td>\n",
              "      <td>-0.945925</td>\n",
              "      <td>-0.929933</td>\n",
              "      <td>-0.880074</td>\n",
              "      <td>-0.830193</td>\n",
              "      <td>-0.747288</td>\n",
              "      <td>-0.674082</td>\n",
              "      <td>1.0</td>\n",
              "    </tr>\n",
              "    <tr>\n",
              "      <th>2</th>\n",
              "      <td>-0.529552</td>\n",
              "      <td>-0.236574</td>\n",
              "      <td>0.007812</td>\n",
              "      <td>0.140074</td>\n",
              "      <td>0.203421</td>\n",
              "      <td>0.236996</td>\n",
              "      <td>0.381852</td>\n",
              "      <td>0.553650</td>\n",
              "      <td>0.555418</td>\n",
              "      <td>0.600177</td>\n",
              "      <td>0.670829</td>\n",
              "      <td>0.644946</td>\n",
              "      <td>0.616480</td>\n",
              "      <td>0.618006</td>\n",
              "      <td>0.646412</td>\n",
              "      <td>0.674114</td>\n",
              "      <td>0.604589</td>\n",
              "      <td>0.617377</td>\n",
              "      <td>0.536868</td>\n",
              "      <td>0.553668</td>\n",
              "      <td>0.662648</td>\n",
              "      <td>0.636666</td>\n",
              "      <td>0.584211</td>\n",
              "      <td>0.597570</td>\n",
              "      <td>0.711236</td>\n",
              "      <td>0.706752</td>\n",
              "      <td>0.589947</td>\n",
              "      <td>0.533974</td>\n",
              "      <td>0.560211</td>\n",
              "      <td>0.642392</td>\n",
              "      <td>0.665375</td>\n",
              "      <td>0.664892</td>\n",
              "      <td>-0.505962</td>\n",
              "      <td>-0.178692</td>\n",
              "      <td>0.136783</td>\n",
              "      <td>0.305066</td>\n",
              "      <td>0.397384</td>\n",
              "      <td>0.405341</td>\n",
              "      <td>0.514769</td>\n",
              "      <td>0.640537</td>\n",
              "      <td>...</td>\n",
              "      <td>-0.014757</td>\n",
              "      <td>-0.155269</td>\n",
              "      <td>-0.088941</td>\n",
              "      <td>0.103951</td>\n",
              "      <td>0.298344</td>\n",
              "      <td>0.518641</td>\n",
              "      <td>0.750141</td>\n",
              "      <td>-0.228494</td>\n",
              "      <td>0.094326</td>\n",
              "      <td>0.450848</td>\n",
              "      <td>0.605006</td>\n",
              "      <td>0.769319</td>\n",
              "      <td>0.793748</td>\n",
              "      <td>0.781105</td>\n",
              "      <td>0.784750</td>\n",
              "      <td>0.777870</td>\n",
              "      <td>0.720903</td>\n",
              "      <td>0.710407</td>\n",
              "      <td>0.707349</td>\n",
              "      <td>0.708757</td>\n",
              "      <td>0.678358</td>\n",
              "      <td>0.584596</td>\n",
              "      <td>0.412023</td>\n",
              "      <td>0.330041</td>\n",
              "      <td>0.225713</td>\n",
              "      <td>0.347084</td>\n",
              "      <td>0.466433</td>\n",
              "      <td>0.562169</td>\n",
              "      <td>0.582480</td>\n",
              "      <td>0.520327</td>\n",
              "      <td>0.451302</td>\n",
              "      <td>0.343403</td>\n",
              "      <td>0.154809</td>\n",
              "      <td>0.025927</td>\n",
              "      <td>0.065976</td>\n",
              "      <td>0.223514</td>\n",
              "      <td>0.369113</td>\n",
              "      <td>0.543338</td>\n",
              "      <td>0.742894</td>\n",
              "      <td>1.0</td>\n",
              "    </tr>\n",
              "    <tr>\n",
              "      <th>3</th>\n",
              "      <td>1.021023</td>\n",
              "      <td>0.963068</td>\n",
              "      <td>0.803935</td>\n",
              "      <td>0.582933</td>\n",
              "      <td>0.368136</td>\n",
              "      <td>0.101616</td>\n",
              "      <td>-0.104632</td>\n",
              "      <td>-0.160637</td>\n",
              "      <td>-0.106747</td>\n",
              "      <td>-0.086385</td>\n",
              "      <td>-0.155577</td>\n",
              "      <td>-0.225588</td>\n",
              "      <td>-0.256510</td>\n",
              "      <td>-0.253823</td>\n",
              "      <td>-0.245636</td>\n",
              "      <td>-0.254115</td>\n",
              "      <td>-0.283182</td>\n",
              "      <td>-0.386294</td>\n",
              "      <td>-0.628576</td>\n",
              "      <td>-0.886667</td>\n",
              "      <td>-1.083708</td>\n",
              "      <td>-1.252700</td>\n",
              "      <td>-1.372949</td>\n",
              "      <td>-1.355514</td>\n",
              "      <td>-1.278086</td>\n",
              "      <td>-1.151590</td>\n",
              "      <td>-0.988305</td>\n",
              "      <td>-0.808770</td>\n",
              "      <td>-0.645343</td>\n",
              "      <td>-0.494227</td>\n",
              "      <td>-0.384166</td>\n",
              "      <td>-0.343815</td>\n",
              "      <td>1.060053</td>\n",
              "      <td>1.002043</td>\n",
              "      <td>0.841545</td>\n",
              "      <td>0.618540</td>\n",
              "      <td>0.390647</td>\n",
              "      <td>0.134277</td>\n",
              "      <td>-0.072269</td>\n",
              "      <td>-0.127469</td>\n",
              "      <td>...</td>\n",
              "      <td>0.474016</td>\n",
              "      <td>0.506628</td>\n",
              "      <td>0.514857</td>\n",
              "      <td>0.566306</td>\n",
              "      <td>0.632127</td>\n",
              "      <td>0.698572</td>\n",
              "      <td>0.712047</td>\n",
              "      <td>1.750743</td>\n",
              "      <td>1.739208</td>\n",
              "      <td>1.681717</td>\n",
              "      <td>1.608730</td>\n",
              "      <td>1.479825</td>\n",
              "      <td>1.292003</td>\n",
              "      <td>1.103905</td>\n",
              "      <td>0.958266</td>\n",
              "      <td>0.855235</td>\n",
              "      <td>0.760160</td>\n",
              "      <td>0.709273</td>\n",
              "      <td>0.692549</td>\n",
              "      <td>0.728804</td>\n",
              "      <td>0.811602</td>\n",
              "      <td>0.890908</td>\n",
              "      <td>0.903787</td>\n",
              "      <td>0.891907</td>\n",
              "      <td>0.822575</td>\n",
              "      <td>0.701350</td>\n",
              "      <td>0.547918</td>\n",
              "      <td>0.458497</td>\n",
              "      <td>0.408288</td>\n",
              "      <td>0.400891</td>\n",
              "      <td>0.437943</td>\n",
              "      <td>0.521462</td>\n",
              "      <td>0.576091</td>\n",
              "      <td>0.585242</td>\n",
              "      <td>0.569211</td>\n",
              "      <td>0.600704</td>\n",
              "      <td>0.668983</td>\n",
              "      <td>0.723489</td>\n",
              "      <td>0.737075</td>\n",
              "      <td>1.0</td>\n",
              "    </tr>\n",
              "    <tr>\n",
              "      <th>4</th>\n",
              "      <td>-0.294719</td>\n",
              "      <td>-0.306115</td>\n",
              "      <td>-0.340953</td>\n",
              "      <td>-0.354385</td>\n",
              "      <td>-0.341010</td>\n",
              "      <td>-0.322155</td>\n",
              "      <td>-0.291384</td>\n",
              "      <td>-0.281766</td>\n",
              "      <td>-0.272193</td>\n",
              "      <td>-0.268195</td>\n",
              "      <td>-0.279496</td>\n",
              "      <td>-0.317559</td>\n",
              "      <td>-0.340173</td>\n",
              "      <td>-0.375647</td>\n",
              "      <td>-0.429494</td>\n",
              "      <td>-0.493470</td>\n",
              "      <td>-0.550043</td>\n",
              "      <td>-0.599086</td>\n",
              "      <td>-0.610268</td>\n",
              "      <td>-0.573450</td>\n",
              "      <td>-0.503211</td>\n",
              "      <td>-0.393117</td>\n",
              "      <td>-0.307751</td>\n",
              "      <td>-0.263031</td>\n",
              "      <td>-0.260958</td>\n",
              "      <td>-0.275697</td>\n",
              "      <td>-0.315963</td>\n",
              "      <td>-0.353692</td>\n",
              "      <td>-0.401644</td>\n",
              "      <td>-0.514801</td>\n",
              "      <td>-0.681498</td>\n",
              "      <td>-0.748798</td>\n",
              "      <td>-0.346987</td>\n",
              "      <td>-0.364244</td>\n",
              "      <td>-0.398697</td>\n",
              "      <td>-0.410568</td>\n",
              "      <td>-0.387154</td>\n",
              "      <td>-0.366403</td>\n",
              "      <td>-0.336116</td>\n",
              "      <td>-0.324847</td>\n",
              "      <td>...</td>\n",
              "      <td>-0.172921</td>\n",
              "      <td>-0.273850</td>\n",
              "      <td>-0.385259</td>\n",
              "      <td>-0.508208</td>\n",
              "      <td>-0.686105</td>\n",
              "      <td>-0.905513</td>\n",
              "      <td>-1.001025</td>\n",
              "      <td>-0.339535</td>\n",
              "      <td>-0.376414</td>\n",
              "      <td>-0.459476</td>\n",
              "      <td>-0.479039</td>\n",
              "      <td>-0.382849</td>\n",
              "      <td>-0.277756</td>\n",
              "      <td>-0.202710</td>\n",
              "      <td>-0.137382</td>\n",
              "      <td>-0.090882</td>\n",
              "      <td>-0.076081</td>\n",
              "      <td>-0.081836</td>\n",
              "      <td>-0.092613</td>\n",
              "      <td>-0.148057</td>\n",
              "      <td>-0.215765</td>\n",
              "      <td>-0.265490</td>\n",
              "      <td>-0.292964</td>\n",
              "      <td>-0.321418</td>\n",
              "      <td>-0.326829</td>\n",
              "      <td>-0.326098</td>\n",
              "      <td>-0.283424</td>\n",
              "      <td>-0.270951</td>\n",
              "      <td>-0.271019</td>\n",
              "      <td>-0.261745</td>\n",
              "      <td>-0.183841</td>\n",
              "      <td>-0.128616</td>\n",
              "      <td>-0.188751</td>\n",
              "      <td>-0.299040</td>\n",
              "      <td>-0.408301</td>\n",
              "      <td>-0.530846</td>\n",
              "      <td>-0.706106</td>\n",
              "      <td>-0.923434</td>\n",
              "      <td>-1.019485</td>\n",
              "      <td>8.0</td>\n",
              "    </tr>\n",
              "  </tbody>\n",
              "</table>\n",
              "<p>5 rows × 1025 columns</p>\n",
              "</div>"
            ],
            "text/plain": [
              "       0         1         2         3     ...      1021      1022      1023  1024\n",
              "0  0.091154  0.094069  0.108886 -0.035054  ... -0.726268 -0.748682 -0.787166   1.0\n",
              "1  1.301847  1.295418  1.153358  0.655982  ... -0.830193 -0.747288 -0.674082   1.0\n",
              "2 -0.529552 -0.236574  0.007812  0.140074  ...  0.369113  0.543338  0.742894   1.0\n",
              "3  1.021023  0.963068  0.803935  0.582933  ...  0.668983  0.723489  0.737075   1.0\n",
              "4 -0.294719 -0.306115 -0.340953 -0.354385  ... -0.706106 -0.923434 -1.019485   8.0\n",
              "\n",
              "[5 rows x 1025 columns]"
            ]
          },
          "metadata": {},
          "execution_count": 20
        }
      ]
    },
    {
      "cell_type": "code",
      "metadata": {
        "id": "MYqeJ1eVN49r"
      },
      "source": [
        "test_labels = np.array(y_test).reshape(y_test.shape[0],1)\n",
        "all_test_data = np.hstack((X_test, test_labels))\n",
        "# print(all_test_data)"
      ],
      "execution_count": null,
      "outputs": []
    },
    {
      "cell_type": "code",
      "metadata": {
        "id": "Gnj5R_qDaKua"
      },
      "source": [
        "test_A = all_test_data[np.where(all_test_data[:,1024] == 9)]\n",
        "test_B = all_test_data[np.where(all_test_data[:,1024] == 1)]\n",
        "# print(test_A.shape)\n",
        "# print(test_B.shape)"
      ],
      "execution_count": null,
      "outputs": []
    },
    {
      "cell_type": "code",
      "metadata": {
        "id": "tO0fB_p-Y4zQ"
      },
      "source": [
        "def random_rows_funct(data,size):\n",
        "    number_of_rows = data.shape[0]\n",
        "    random_indices = np.random.choice(number_of_rows, size= size, replace=False)\n",
        "\n",
        "    random_rows =data[random_indices, :]\n",
        "    return random_rows\n",
        "\n"
      ],
      "execution_count": null,
      "outputs": []
    },
    {
      "cell_type": "code",
      "metadata": {
        "colab": {
          "base_uri": "https://localhost:8080/"
        },
        "id": "ToKzsiuWa69-",
        "outputId": "71c8c3db-1f6e-4cb4-c669-0e009da97387"
      },
      "source": [
        "sample_A = random_rows_funct(test_A,10)\n",
        "sample_B = random_rows_funct(test_B,10)\n",
        "print(sample_A.shape)\n",
        "print(sample_B.shape)\n",
        "sample_AB  = np.vstack((sample_A,sample_B))"
      ],
      "execution_count": null,
      "outputs": [
        {
          "output_type": "stream",
          "name": "stdout",
          "text": [
            "(10, 1025)\n",
            "(10, 1025)\n"
          ]
        }
      ]
    },
    {
      "cell_type": "code",
      "metadata": {
        "colab": {
          "base_uri": "https://localhost:8080/"
        },
        "id": "tO2lAPIabgwA",
        "outputId": "757a4c8c-9c55-4707-f66f-a3ad8d25a132"
      },
      "source": [
        "sample_X_AB= sample_AB[:, 0:1024]\n",
        "sample_y_AB = sample_AB[:,1024]\n",
        "print(sample_X_AB.shape, sample_y_AB)"
      ],
      "execution_count": null,
      "outputs": [
        {
          "output_type": "stream",
          "name": "stdout",
          "text": [
            "(20, 1024) [9. 9. 9. 9. 9. 9. 9. 9. 9. 9. 1. 1. 1. 1. 1. 1. 1. 1. 1. 1.]\n"
          ]
        }
      ]
    },
    {
      "cell_type": "markdown",
      "metadata": {
        "id": "yJ6g3rdLKs5m"
      },
      "source": [
        "### 1. (5 marks) Compute the Data Covariance matrix for each class (e.g., digit, character) separately and then entire dataset. "
      ]
    },
    {
      "cell_type": "markdown",
      "metadata": {
        "id": "0M-B8DNJ33Ln"
      },
      "source": [
        "#### Covariance of whole data "
      ]
    },
    {
      "cell_type": "code",
      "metadata": {
        "id": "Np5_ZztcLwhx",
        "colab": {
          "base_uri": "https://localhost:8080/"
        },
        "outputId": "af8bbffc-e463-441d-b489-1f95236998b4"
      },
      "source": [
        "standardized_data = StandardScaler().fit_transform(data) # standardisation\n",
        "print(standardized_data.shape)"
      ],
      "execution_count": null,
      "outputs": [
        {
          "output_type": "stream",
          "name": "stdout",
          "text": [
            "(63733, 1024)\n"
          ]
        }
      ]
    },
    {
      "cell_type": "code",
      "metadata": {
        "id": "LuvmI-ohsMsh"
      },
      "source": [
        "covar_matrix = np.matmul(standardized_data.T , standardized_data )/(standardized_data.shape[0])  # calculating covariance matrix"
      ],
      "execution_count": null,
      "outputs": []
    },
    {
      "cell_type": "code",
      "metadata": {
        "colab": {
          "base_uri": "https://localhost:8080/"
        },
        "id": "EkE9p-URHN-s",
        "outputId": "0e8ee054-8dd6-459a-d864-a774bede67eb"
      },
      "source": [
        "print(\"Covariance Matrix:\")\n",
        "print(covar_matrix)\n",
        "# print(covar_matrix.shape)"
      ],
      "execution_count": null,
      "outputs": [
        {
          "output_type": "stream",
          "name": "stdout",
          "text": [
            "Covariance Matrix:\n",
            "[[1.0000002  0.99105203 0.9665629  ... 0.5338433  0.5223842  0.5135062 ]\n",
            " [0.99105203 0.99999994 0.98884654 ... 0.54560876 0.53292054 0.5229866 ]\n",
            " [0.9665629  0.98884654 1.0000002  ... 0.5600081  0.54575276 0.5345742 ]\n",
            " ...\n",
            " [0.5338433  0.54560876 0.5600081  ... 1.0000004  0.9851995  0.9555973 ]\n",
            " [0.5223842  0.53292054 0.54575276 ... 0.9851995  0.9999999  0.9879572 ]\n",
            " [0.5135062  0.5229866  0.5345742  ... 0.9555973  0.9879572  1.        ]]\n"
          ]
        }
      ]
    },
    {
      "cell_type": "markdown",
      "metadata": {
        "id": "-RA9gQyz38a6"
      },
      "source": [
        "#### Covariance of all classes\n",
        "\n"
      ]
    },
    {
      "cell_type": "code",
      "metadata": {
        "colab": {
          "base_uri": "https://localhost:8080/"
        },
        "id": "hA7ETpkQziNX",
        "outputId": "e021fc14-36f7-41e2-df57-873742249a5f"
      },
      "source": [
        "cum_var = [] # stores variences of each covarience matrix\n",
        "covar_matrices = [] # stores covarience matrices for each class \n",
        "col = 1024 # number of features \n",
        "for i in range(10):\n",
        "    new_df = df[df[col] == i]  # creating new df with rows of class i \n",
        "    data = new_df\n",
        "    data = data.drop( 1024, axis = 1 )\n",
        "    standardized_data_class = StandardScaler().fit_transform(data) # standardisation of class data \n",
        "    # print(\"Shape of standardized data\\n\", standardized_data_class.shape)\n",
        "    covar_matrix_class = np.matmul(standardized_data_class.T , standardized_data_class)/all_data.shape[0]# calculating the covariance matrix of each class \n",
        "    # print('Shape of covarience Matrix\\n', covar_matrix_class.shape)\n",
        "    \n",
        "\n",
        "    \n",
        "    covar_matrices.append(covar_matrix_class)\n",
        "    cum_var.append(covar_matrix_class.trace())\n",
        "    \n",
        "    print(\"Covariance Matrix for digit\", i, ':',  cum_var[i])\n",
        "    print(np.array(covar_matrix_class))\n",
        "cum_var = np.array(cum_var)\n",
        "covar_matrices = np.array(covar_matrices)"
      ],
      "execution_count": null,
      "outputs": [
        {
          "output_type": "stream",
          "name": "stdout",
          "text": [
            "Covariance Matrix for digit 0 : 69.40956\n",
            "[[0.06778277 0.067267   0.06593367 ... 0.04081539 0.03915859 0.03808665]\n",
            " [0.067267   0.0677828  0.06717949 ... 0.0410823  0.03940812 0.03831067]\n",
            " [0.06593367 0.06717949 0.06778278 ... 0.04113872 0.03940703 0.03824806]\n",
            " ...\n",
            " [0.04081539 0.0410823  0.04113872 ... 0.06778279 0.06663638 0.06451681]\n",
            " [0.03915859 0.03940812 0.03940703 ... 0.06663638 0.06778277 0.06698429]\n",
            " [0.03808665 0.03831067 0.03824806 ... 0.06451681 0.06698429 0.0677828 ]]\n",
            "Covariance Matrix for digit 1 : 193.07748\n",
            "[[0.18855223 0.18685965 0.18190184 ... 0.09227397 0.09089343 0.08980075]\n",
            " [0.18685965 0.18855225 0.18630476 ... 0.09513947 0.09359233 0.0923428 ]\n",
            " [0.18190184 0.18630476 0.18855225 ... 0.09845062 0.09670012 0.09527002]\n",
            " ...\n",
            " [0.09227397 0.09513947 0.09845062 ... 0.18855223 0.18609922 0.1813222 ]\n",
            " [0.09089343 0.09359233 0.09670012 ... 0.18609922 0.18855228 0.18655297]\n",
            " [0.08980075 0.0923428  0.09527002 ... 0.1813222  0.18655297 0.18855228]]\n",
            "Covariance Matrix for digit 2 : 147.99341\n",
            "[[0.14452484 0.14326508 0.139603   ... 0.07311284 0.07177635 0.07079481]\n",
            " [0.14326508 0.14452481 0.14282207 ... 0.07519311 0.0735642  0.07234218]\n",
            " [0.139603   0.14282207 0.14452483 ... 0.07791171 0.07601177 0.07457116]\n",
            " ...\n",
            " [0.07311284 0.07519311 0.07791171 ... 0.14452478 0.142494   0.13820863]\n",
            " [0.07177635 0.0735642  0.07601177 ... 0.142494   0.14452481 0.14272851]\n",
            " [0.07079481 0.07234218 0.07457116 ... 0.13820863 0.14272851 0.14452481]]\n",
            "Covariance Matrix for digit 3 : 118.70323\n",
            "[[0.11592113 0.11481148 0.11169095 ... 0.05927822 0.05851182 0.05760435]\n",
            " [0.11481148 0.1159211  0.11451056 ... 0.06091116 0.0600386  0.05903766]\n",
            " [0.11169095 0.11451056 0.11592112 ... 0.06313675 0.0620555  0.06094569]\n",
            " ...\n",
            " [0.05927822 0.06091116 0.06313675 ... 0.1159211  0.11422046 0.11083072]\n",
            " [0.05851182 0.0600386  0.0620555  ... 0.11422046 0.11592114 0.11456031]\n",
            " [0.05760435 0.05903766 0.06094569 ... 0.11083072 0.11456031 0.11592112]]\n",
            "Covariance Matrix for digit 4 : 103.760864\n",
            "[[0.10132899 0.10043667 0.09805992 ... 0.05502391 0.05386943 0.05296075]\n",
            " [0.10043667 0.10132899 0.10025736 ... 0.0564067  0.05513402 0.05410011]\n",
            " [0.09805992 0.10025736 0.10132899 ... 0.05781588 0.05638358 0.05524303]\n",
            " ...\n",
            " [0.05502391 0.0564067  0.05781588 ... 0.10132898 0.09968112 0.0963505 ]\n",
            " [0.05386943 0.05513402 0.05638358 ... 0.09968112 0.10132896 0.09997283]\n",
            " [0.05296075 0.05410011 0.05524303 ... 0.0963505  0.09997283 0.10132898]]\n",
            "Covariance Matrix for digit 5 : 96.86813\n",
            "[[0.09459776 0.09374945 0.0913932  ... 0.05282006 0.05190416 0.05138618]\n",
            " [0.09374945 0.09459778 0.09354156 ... 0.05393146 0.05285072 0.05220238]\n",
            " [0.0913932  0.09354156 0.09459778 ... 0.05534873 0.05407993 0.05325063]\n",
            " ...\n",
            " [0.05282006 0.05393146 0.05534873 ... 0.09459776 0.09311519 0.09026046]\n",
            " [0.05190416 0.05285072 0.05407993 ... 0.09311519 0.09459778 0.09343734]\n",
            " [0.05138618 0.05220238 0.05325063 ... 0.09026046 0.09343734 0.09459778]]\n",
            "Covariance Matrix for digit 6 : 80.142334\n",
            "[[0.078264   0.0775224  0.07573485 ... 0.04233132 0.04140854 0.04067262]\n",
            " [0.0775224  0.07826401 0.07744602 ... 0.04299241 0.04200001 0.04119593]\n",
            " [0.07573485 0.07744602 0.07826401 ... 0.04405208 0.04285607 0.04189708]\n",
            " ...\n",
            " [0.04233132 0.04299241 0.04405208 ... 0.07826401 0.07700063 0.07443605]\n",
            " [0.04140854 0.04200001 0.04285607 ... 0.07700063 0.078264   0.07722255]\n",
            " [0.04067262 0.04119593 0.04189708 ... 0.07443605 0.07722255 0.07826399]]\n",
            "Covariance Matrix for digit 7 : 78.71239\n",
            "[[0.07686755 0.07619439 0.07438947 ... 0.04102396 0.04004716 0.03920107]\n",
            " [0.07619439 0.07686757 0.07599796 ... 0.04166789 0.04058709 0.03968439]\n",
            " [0.07438947 0.07599796 0.07686756 ... 0.04277491 0.0415791  0.04052486]\n",
            " ...\n",
            " [0.04102396 0.04166789 0.04277491 ... 0.07686757 0.07566329 0.07328688]\n",
            " [0.04004716 0.04058709 0.0415791  ... 0.07566329 0.07686754 0.07593184]\n",
            " [0.03920107 0.03968439 0.04052486 ... 0.07328688 0.07593184 0.07686756]]\n",
            "Covariance Matrix for digit 8 : 70.35753\n",
            "[[0.06870851 0.06813321 0.06668524 ... 0.03942163 0.03824443 0.0372416 ]\n",
            " [0.06813321 0.06870852 0.06804109 ... 0.04007528 0.03881836 0.03775833]\n",
            " [0.06668524 0.06804109 0.06870852 ... 0.04075687 0.03940497 0.03829834]\n",
            " ...\n",
            " [0.03942163 0.04007528 0.04075687 ... 0.06870852 0.06775418 0.06573586]\n",
            " [0.03824443 0.03881836 0.03940497 ... 0.06775418 0.06870851 0.06787317]\n",
            " [0.0372416  0.03775833 0.03829834 ... 0.06573586 0.06787317 0.06870852]]\n",
            "Covariance Matrix for digit 9 : 64.975075\n",
            "[[0.06345221 0.06280707 0.06113395 ... 0.0379541  0.03678467 0.03596125]\n",
            " [0.06280707 0.06345221 0.06272797 ... 0.03836749 0.03709042 0.03616675]\n",
            " [0.06113395 0.06272797 0.06345221 ... 0.03874087 0.03740979 0.03645539]\n",
            " ...\n",
            " [0.0379541  0.03836749 0.03874087 ... 0.06345221 0.06253345 0.06065679]\n",
            " [0.03678467 0.03709042 0.03740979 ... 0.06253345 0.06345222 0.06269782]\n",
            " [0.03596125 0.03616675 0.03645539 ... 0.06065679 0.06269782 0.06345221]]\n"
          ]
        }
      ]
    },
    {
      "cell_type": "markdown",
      "metadata": {
        "id": "yvqCRtVw66Ll"
      },
      "source": [
        "### 2. (2.5 marks) Which class has the minimum and maximum total variance (spread)? Let’s call them class A and B respectively. Provide some example images from class A and B."
      ]
    },
    {
      "cell_type": "code",
      "metadata": {
        "id": "ZEX6HVcoWxdU"
      },
      "source": [
        "max_var = cum_var.argmax() # finding class with max variance \n",
        "min_var = cum_var.argmin()  # finding class with min variance "
      ],
      "execution_count": null,
      "outputs": []
    },
    {
      "cell_type": "code",
      "metadata": {
        "colab": {
          "base_uri": "https://localhost:8080/"
        },
        "id": "cHpVeZ3qXHJP",
        "outputId": "f6d43bba-7b96-4c82-8244-6fed83db9c72"
      },
      "source": [
        "print(\"Min variance A :\", min_var)\n",
        "print(\"Max variance B:\", max_var)"
      ],
      "execution_count": null,
      "outputs": [
        {
          "output_type": "stream",
          "name": "stdout",
          "text": [
            "Min variance A : 9\n",
            "Max variance B: 1\n"
          ]
        }
      ]
    },
    {
      "cell_type": "markdown",
      "metadata": {
        "id": "VXpuYDT5NHW9"
      },
      "source": [
        "Sample Images"
      ]
    },
    {
      "cell_type": "code",
      "metadata": {
        "id": "VbQZVsapJybr"
      },
      "source": [
        "# helper function to plot images \n",
        "def plot_images(img, labels, nrows, ncols):\n",
        "    fig, axes = plt.subplots(nrows, ncols)\n",
        "    for i, ax in enumerate(axes.flat): \n",
        "        ax.imshow(img[i])\n",
        "        ax.set_xticks([]); ax.set_yticks([])\n",
        "        ax.set_title(labels[i])"
      ],
      "execution_count": null,
      "outputs": []
    },
    {
      "cell_type": "code",
      "metadata": {
        "colab": {
          "base_uri": "https://localhost:8080/",
          "height": 79
        },
        "id": "Gs815ezp_0gU",
        "outputId": "1aec02bf-6dd8-45c0-cf86-a569e698761e"
      },
      "source": [
        "A_plt = sample_A[:,0:1024].reshape((10,32,32))\n",
        "plot_images(A_plt, sample_A[:,1024], 1, 10)"
      ],
      "execution_count": null,
      "outputs": [
        {
          "output_type": "display_data",
          "data": {
            "image/png": "[encoded data removed]",
            "text/plain": [
              "<Figure size 432x288 with 10 Axes>"
            ]
          },
          "metadata": {}
        }
      ]
    },
    {
      "cell_type": "code",
      "metadata": {
        "colab": {
          "base_uri": "https://localhost:8080/",
          "height": 79
        },
        "id": "SThVcKU3M-K5",
        "outputId": "e76f0faa-876b-4a90-e66d-b7acfcc6e57e"
      },
      "source": [
        "B_plt = sample_B[:,0:1024].reshape((10,32,32))\n",
        "plot_images(B_plt, sample_B[:,1024], 1, 10)"
      ],
      "execution_count": null,
      "outputs": [
        {
          "output_type": "display_data",
          "data": {
            "image/png": "[encoded data removed]",
            "text/plain": [
              "<Figure size 432x288 with 10 Axes>"
            ]
          },
          "metadata": {}
        }
      ]
    },
    {
      "cell_type": "markdown",
      "metadata": {
        "id": "DrhYeDtRXPCB"
      },
      "source": [
        "### 3. (2.5 marks) Perform normalization on the data from each class. Which method is more appropriate here?"
      ]
    },
    {
      "cell_type": "markdown",
      "metadata": {
        "id": "UuqJyT7-rwRZ"
      },
      "source": [
        "It is mandatory before applying PCA to convert mean=0 and standard deviation =1 for each variable. So we use  StandardScaler() from sklearn which uses scalar z-normalisation"
      ]
    },
    {
      "cell_type": "markdown",
      "metadata": {
        "id": "jPDO2Qr5XXkS"
      },
      "source": [
        "### 4. (10 marks) Use PCA and related techniques (https://scikitlearn.org/stable/modules/decomposition.html#decompositions ) to visualize the data in class A and B individually and together. Are the two classes distinguishable?"
      ]
    },
    {
      "cell_type": "code",
      "metadata": {
        "id": "quwTV3xXIQb4"
      },
      "source": [
        "df_A = pd.DataFrame(all_data).loc[df[1024] == 9]\n",
        "df_B = pd.DataFrame(all_data).loc[df[1024] == 1]\n",
        "labels_A = df_A[[1024]]\n",
        "labels_B = df_B[[1024]]\n",
        "df_A.drop(df.columns[[1024]], axis = 1, inplace = True)\n",
        "df_B.drop(df.columns[[1024]], axis = 1, inplace = True)\n",
        "data_A = df_A.to_numpy()\n",
        "data_B = df_B.to_numpy()"
      ],
      "execution_count": null,
      "outputs": []
    },
    {
      "cell_type": "code",
      "metadata": {
        "id": "4S5R8IX_SUwP"
      },
      "source": [
        "df_AB= pd.DataFrame(all_data) \n",
        "df_AB = df_AB.loc[(df[1024] == 9) | (df[1024] == 1)]\n",
        "labels_AB = df_AB[[1024]]\n",
        "df_AB.drop(df.columns[[1024]], axis = 1, inplace = True)\n",
        "data_AB= df_AB.to_numpy()"
      ],
      "execution_count": null,
      "outputs": []
    },
    {
      "cell_type": "markdown",
      "metadata": {
        "id": "CgIOMPxRs3ik"
      },
      "source": [
        "#### i. PCA "
      ]
    },
    {
      "cell_type": "markdown",
      "metadata": {
        "id": "cJyNflyKs7vO"
      },
      "source": [
        "##### Class A"
      ]
    },
    {
      "cell_type": "code",
      "metadata": {
        "id": "2SNQ__cJm0tL"
      },
      "source": [
        "values, vectors = eigh(covar_matrices[9], eigvals=(1022,1023)) # covariance matrix of digit 9 (class A) is covar_matrices[9]\n",
        "print('Shape of eigen vectors =',vectors.shape)\n",
        "vectors = vectors.T\n",
        "print('Updated shape of eigen vectors =',vectors.shape)"
      ],
      "execution_count": null,
      "outputs": []
    },
    {
      "cell_type": "code",
      "metadata": {
        "id": "vjsusqY6nBLY"
      },
      "source": [
        "new_coordinates = np.matmul(vectors, data_A.T)\n",
        "print (\" resultanant new data points' shape \", vectors.shape, \"X\", data_A.T.shape,\" = \", new_coordinates.shape)"
      ],
      "execution_count": null,
      "outputs": []
    },
    {
      "cell_type": "code",
      "metadata": {
        "id": "lRo0n-29nFL1"
      },
      "source": [
        "print(new_coordinates.shape, labels_A.shape)\n",
        "# appending label to the 2d projected data\n",
        "new_coordinates = np.vstack((new_coordinates, labels_A.T)).T\n",
        "\n",
        "# creating a new data frame for ploting the labeled points.\n",
        "dataframe = pd.DataFrame(data=new_coordinates, columns=(\"1st_principal\", \"2nd_principal\", \"label\"))\n",
        "print(dataframe.head())"
      ],
      "execution_count": null,
      "outputs": []
    },
    {
      "cell_type": "code",
      "metadata": {
        "id": "pVpT2E4HnHYk"
      },
      "source": [
        "sn.FacetGrid(dataframe, hue=\"label\", size=6).map(plt.scatter, '1st_principal', '2nd_principal').add_legend()\n",
        "plt.show()"
      ],
      "execution_count": null,
      "outputs": []
    },
    {
      "cell_type": "markdown",
      "metadata": {
        "id": "AsFz0NKLs9W_"
      },
      "source": [
        "##### Class B"
      ]
    },
    {
      "cell_type": "code",
      "metadata": {
        "id": "9sHRYf1B70nm"
      },
      "source": [
        "values, vectors = eigh(covar_matrices[1], eigvals=(1022,1023))\n",
        "print('Shape of eigen vectors =',vectors.shape)\n",
        "vectors = vectors.T\n",
        "print('Updated shape of eigen vectors =',vectors.shape)"
      ],
      "execution_count": null,
      "outputs": []
    },
    {
      "cell_type": "code",
      "metadata": {
        "id": "5ON5Ar3g9FKY"
      },
      "source": [
        "new_coordinates = np.matmul(vectors, data_B.T)\n",
        "print (\" resultanat new data points' shape \", vectors.shape, \"X\", data_B.T.shape,\" = \", new_coordinates.shape)"
      ],
      "execution_count": null,
      "outputs": []
    },
    {
      "cell_type": "code",
      "metadata": {
        "id": "NuH45ov09LB4"
      },
      "source": [
        "# appending label to the 2d projected data\n",
        "new_coordinates = np.vstack((new_coordinates, labels_B.T)).T\n",
        "\n",
        "# creating a new data frame for ploting the labeled points.\n",
        "dataframe = pd.DataFrame(data=new_coordinates, columns=(\"1st_principal\", \"2nd_principal\", \"label\"))\n",
        "print(dataframe.head())"
      ],
      "execution_count": null,
      "outputs": []
    },
    {
      "cell_type": "code",
      "metadata": {
        "id": "TQ1EnRHb9Nvu"
      },
      "source": [
        "sn.FacetGrid(dataframe, hue=\"label\", size=6).map(plt.scatter, '1st_principal', '2nd_principal').add_legend()\n",
        "plt.show()"
      ],
      "execution_count": null,
      "outputs": []
    },
    {
      "cell_type": "markdown",
      "metadata": {
        "id": "-HKtucy1tAVR"
      },
      "source": [
        "##### Combined"
      ]
    },
    {
      "cell_type": "code",
      "metadata": {
        "id": "hUNuN3fZT8Ua"
      },
      "source": [
        "standardized_data_AB = StandardScaler().fit_transform(data_AB)\n",
        "print(\"Shape of standardized data\\n\", standardized_data_AB.shape)\n",
        "covar_matrix_AB = np.matmul(standardized_data_AB.T , standardized_data_AB)/all_data.shape[0]\n",
        "print('Shape of covarience Matrix\\n', covar_matrix_AB.shape)"
      ],
      "execution_count": null,
      "outputs": []
    },
    {
      "cell_type": "code",
      "metadata": {
        "id": "94V2GSnDTpbe"
      },
      "source": [
        "values, vectors = eigh(covar_matrix_AB, eigvals=(1022,1023))\n",
        "print('Shape of eigen vectors =',vectors.shape)\n",
        "vectors = vectors.T\n",
        "print('Updated shape of eigen vectors =',vectors.shape)"
      ],
      "execution_count": null,
      "outputs": []
    },
    {
      "cell_type": "code",
      "metadata": {
        "id": "Al7mZFIiTr01"
      },
      "source": [
        "new_coordinates = np.matmul(vectors, data_AB.T)\n",
        "print (\" resultanat new data points' shape \", vectors.shape, \"X\", data_AB.T.shape,\" = \", new_coordinates.shape)"
      ],
      "execution_count": null,
      "outputs": []
    },
    {
      "cell_type": "code",
      "metadata": {
        "id": "osXU49lTTt-l"
      },
      "source": [
        "# appending label to the 2d projected data(vertical stack)\n",
        "new_coordinates = np.vstack((new_coordinates, labels_AB.T)).T\n",
        "\n",
        "# creating a new data frame for ploting the labeled points.\n",
        "dataframe = pd.DataFrame(data=new_coordinates, columns=(\"1st_principal\", \"2nd_principal\", \"label\"))\n",
        "print(dataframe.head())"
      ],
      "execution_count": null,
      "outputs": []
    },
    {
      "cell_type": "code",
      "metadata": {
        "id": "YVv1-TzRTwgD"
      },
      "source": [
        "sn.FacetGrid(dataframe, hue=\"label\", height=6).map(plt.scatter, '1st_principal', '2nd_principal').add_legend()\n",
        "plt.show()"
      ],
      "execution_count": null,
      "outputs": []
    },
    {
      "cell_type": "markdown",
      "metadata": {
        "id": "8c0dalhltEYU"
      },
      "source": [
        "Distinguishable ? "
      ]
    },
    {
      "cell_type": "markdown",
      "metadata": {
        "id": "diO0WVZRDWRy"
      },
      "source": [
        "No"
      ]
    },
    {
      "cell_type": "markdown",
      "metadata": {
        "id": "THiH2VfAwHr7"
      },
      "source": [
        "#### ii. Kernal PCA"
      ]
    },
    {
      "cell_type": "markdown",
      "metadata": {
        "id": "jLRZfNxCwVz0"
      },
      "source": [
        "##### Class A "
      ]
    },
    {
      "cell_type": "code",
      "metadata": {
        "id": "ZVAYWeKZwii4",
        "colab": {
          "base_uri": "https://localhost:8080/"
        },
        "outputId": "614196e0-ed29-4231-bfc7-ac47c6349c68"
      },
      "source": [
        "kpca_A = KernelPCA(n_components=2, kernel='linear', gamma=0.01)\n",
        "standardized_data_A = StandardScaler().fit_transform(data_A)\n",
        "Xkpca_A = kpca_A.fit_transform(standardized_data_A)\n",
        "print(Xkpca_A.shape) "
      ],
      "execution_count": null,
      "outputs": [
        {
          "output_type": "stream",
          "name": "stdout",
          "text": [
            "(4044, 2)\n"
          ]
        }
      ]
    },
    {
      "cell_type": "code",
      "metadata": {
        "colab": {
          "base_uri": "https://localhost:8080/",
          "height": 441
        },
        "id": "pcIaw3wL84_D",
        "outputId": "b1945352-ca8f-4489-fdfe-dfd616968e53"
      },
      "source": [
        "Xkpca_A_df = pd.DataFrame(Xkpca_A, columns = ['1st_principal', '2nd_principal'])\n",
        "Xkpca_A_df ['label'] = 9\n",
        "sn.FacetGrid(Xkpca_A_df , hue=\"label\", height=6).map(plt.scatter, '1st_principal', '2nd_principal').add_legend()\n",
        "plt.show()"
      ],
      "execution_count": null,
      "outputs": [
        {
          "output_type": "display_data",
          "data": {
            "image/png": "[encoded data removed]",
            "text/plain": [
              "<Figure size 474.375x432 with 1 Axes>"
            ]
          },
          "metadata": {
            "needs_background": "light"
          }
        }
      ]
    },
    {
      "cell_type": "markdown",
      "metadata": {
        "id": "7ucYFw1BwXyI"
      },
      "source": [
        "##### Class B"
      ]
    },
    {
      "cell_type": "code",
      "metadata": {
        "id": "JeL1LAv4wUzB",
        "colab": {
          "base_uri": "https://localhost:8080/"
        },
        "outputId": "35690494-82ec-4268-81b7-ad726fe6b326"
      },
      "source": [
        "kpca_B = KernelPCA(n_components=2, kernel='linear', gamma=0.01)\n",
        "standardized_data_B = StandardScaler().fit_transform(data_B)\n",
        "Xkpca_B = kpca_B.fit_transform(standardized_data_B)\n",
        "print(Xkpca_B.shape) "
      ],
      "execution_count": null,
      "outputs": [
        {
          "output_type": "stream",
          "name": "stdout",
          "text": [
            "(12017, 2)\n"
          ]
        }
      ]
    },
    {
      "cell_type": "code",
      "metadata": {
        "colab": {
          "base_uri": "https://localhost:8080/",
          "height": 441
        },
        "id": "QcNgd81881CZ",
        "outputId": "4f1b7f7c-7149-4143-b94b-82ad5e865612"
      },
      "source": [
        "Xkpca_B_df = pd.DataFrame(Xkpca_B, columns = ['1st_principal', '2nd_principal'])\n",
        "Xkpca_B_df ['label'] = 1\n",
        "sn.FacetGrid(Xkpca_B_df , hue=\"label\", height=6).map(plt.scatter, '1st_principal', '2nd_principal').add_legend()\n",
        "plt.show()"
      ],
      "execution_count": null,
      "outputs": [
        {
          "output_type": "display_data",
          "data": {
            "image/png": "[encoded data removed]",
            "text/plain": [
              "<Figure size 474.375x432 with 1 Axes>"
            ]
          },
          "metadata": {
            "needs_background": "light"
          }
        }
      ]
    },
    {
      "cell_type": "markdown",
      "metadata": {
        "id": "pW4QAs8Nwbho"
      },
      "source": [
        "##### Combined "
      ]
    },
    {
      "cell_type": "code",
      "metadata": {
        "colab": {
          "base_uri": "https://localhost:8080/"
        },
        "id": "EZcYvta35yZF",
        "outputId": "7c54a339-03af-4b4d-cec0-3cc3a492c981"
      },
      "source": [
        "kpca_AB = KernelPCA(n_components=2, kernel='linear', gamma=0.01)\n",
        "standardized_data_AB=StandardScaler().fit_transform(data_AB)\n",
        "Xkpca_AB = kpca_AB.fit_transform(standardized_data_AB)\n",
        "print(Xkpca_AB.shape) "
      ],
      "execution_count": null,
      "outputs": [
        {
          "output_type": "stream",
          "name": "stdout",
          "text": [
            "(16061, 2)\n"
          ]
        }
      ]
    },
    {
      "cell_type": "code",
      "metadata": {
        "colab": {
          "base_uri": "https://localhost:8080/",
          "height": 543
        },
        "id": "EdOLheot53ZU",
        "outputId": "6db51eb5-8a78-4faf-efce-fdd12708387a"
      },
      "source": [
        "Xkpca_B_df = pd.DataFrame(Xkpca_B, columns = ['1st_principal', '2nd_principal'])\n",
        "Xkpca_B_df ['label'] = labels_AB\n",
        "print(Xkpca_B_df.head())\n",
        "sn.FacetGrid(Xkpca_B_df , hue=\"label\", height=6).map(plt.scatter, '1st_principal', '2nd_principal').add_legend()\n",
        "plt.show()"
      ],
      "execution_count": null,
      "outputs": [
        {
          "output_type": "stream",
          "name": "stdout",
          "text": [
            "   1st_principal  2nd_principal  label\n",
            "0     -17.960995      -0.714809    1.0\n",
            "1      -3.426825       4.388482    1.0\n",
            "2      13.950379      -4.115079    1.0\n",
            "3       3.672723      -9.767338    1.0\n",
            "4      17.780668     -19.659382    NaN\n"
          ]
        },
        {
          "output_type": "display_data",
          "data": {
            "image/png": "[encoded data removed]",
            "text/plain": [
              "<Figure size 483.875x432 with 1 Axes>"
            ]
          },
          "metadata": {
            "needs_background": "light"
          }
        }
      ]
    },
    {
      "cell_type": "markdown",
      "metadata": {
        "id": "s8HPjNfOweJo"
      },
      "source": [
        "##### Distingushable ?"
      ]
    },
    {
      "cell_type": "markdown",
      "metadata": {
        "id": "vpbL6eX_DYax"
      },
      "source": [
        "No"
      ]
    },
    {
      "cell_type": "markdown",
      "metadata": {
        "id": "FWK4_SBZXj9q"
      },
      "source": [
        "### 5. (5 marks) Take 10 random test images from the test set of classes A and B each. Assuming that the distribution of each class is a multi-variate normal (with parameters same as that of the sample covariance matrix for that class), compute the probability of each image belonging to class A and B. How accurate is your classifier?"
      ]
    },
    {
      "cell_type": "markdown",
      "metadata": {
        "id": "kGuMJl0EvyHY"
      },
      "source": [
        ""
      ]
    },
    {
      "cell_type": "code",
      "metadata": {
        "id": "JCGQN1oPPuFx"
      },
      "source": [
        "random_state = 0\n",
        "pca = make_pipeline(StandardScaler(), PCA(n_components=2, random_state=random_state))\n",
        "model = pca"
      ],
      "execution_count": null,
      "outputs": []
    },
    {
      "cell_type": "code",
      "metadata": {
        "colab": {
          "base_uri": "https://localhost:8080/"
        },
        "id": "xsRtI8JZPUsM",
        "outputId": "1d8a5ccc-5bc6-455d-9b70-e3bdfdbc2933"
      },
      "source": [
        "model.fit(data_AB, labels_AB)\n",
        "clf = GaussianNB()\n",
        "clf.partial_fit(model.transform(data_AB), labels_AB,np.unique(labels_AB)) # first 10 belong to class A (9) and rest belong to class B (1)\n",
        "print(\"Probabilities\", clf.predict_proba(model.transform(sample_X_AB))) # probablitity that sample belongs to [A, B] respectively\n",
        "print(clf.score(model.transform(sample_X_AB), sample_y_AB)) # accuracy"
      ],
      "execution_count": null,
      "outputs": [
        {
          "output_type": "stream",
          "name": "stdout",
          "text": [
            "Probabilities [[0.74714291 0.25285709]\n",
            " [0.6950713  0.3049287 ]\n",
            " [0.71866756 0.28133244]\n",
            " [0.74173365 0.25826635]\n",
            " [0.68579549 0.31420451]\n",
            " [0.67989522 0.32010478]\n",
            " [0.69319519 0.30680481]\n",
            " [0.69211959 0.30788041]\n",
            " [0.68922218 0.31077782]\n",
            " [0.69688571 0.30311429]\n",
            " [0.73519307 0.26480693]\n",
            " [0.90070079 0.09929921]\n",
            " [0.72853018 0.27146982]\n",
            " [0.69681904 0.30318096]\n",
            " [0.69736951 0.30263049]\n",
            " [0.78446588 0.21553412]\n",
            " [0.73403249 0.26596751]\n",
            " [0.80270494 0.19729506]\n",
            " [0.74701509 0.25298491]\n",
            " [0.73104203 0.26895797]]\n",
            "0.5\n"
          ]
        },
        {
          "output_type": "stream",
          "name": "stderr",
          "text": [
            "/usr/local/lib/python3.7/dist-packages/sklearn/utils/validation.py:760: DataConversionWarning: A column-vector y was passed when a 1d array was expected. Please change the shape of y to (n_samples, ), for example using ravel().\n",
            "  y = column_or_1d(y, warn=True)\n"
          ]
        }
      ]
    },
    {
      "cell_type": "markdown",
      "metadata": {
        "id": "mrxZBHB0vse1"
      },
      "source": [
        "###### Using only the distributions of each class"
      ]
    },
    {
      "cell_type": "markdown",
      "metadata": {
        "id": "ItZqzj1mv8ek"
      },
      "source": [
        "We assume that we know the distributions of classes A and B and it is multi variant normal.\n",
        "Then we try to fit the test images to both these distibutions and find the prob of them belonging to either class  "
      ]
    },
    {
      "cell_type": "markdown",
      "metadata": {
        "id": "FZ-CrjJoxZS0"
      },
      "source": [
        "Class A"
      ]
    },
    {
      "cell_type": "code",
      "metadata": {
        "id": "iL8xZ9F8yX7k"
      },
      "source": [
        "import matplotlib.pyplot as plt\n",
        "from scipy.stats import multivariate_normal"
      ],
      "execution_count": null,
      "outputs": []
    },
    {
      "cell_type": "code",
      "metadata": {
        "colab": {
          "base_uri": "https://localhost:8080/"
        },
        "id": "momEP_0cv28F",
        "outputId": "1a33e9bf-a983-4657-c9ec-110759206499"
      },
      "source": [
        "x_A = StandardScaler().fit_transform(np.array(sample_X_AB))\n",
        "print(sample_X_AB)\n",
        "y_A = multivariate_normal.pdf(x_A,mean=np.mean(x_A,axis=0), cov=covar_matrix_AB);\n",
        "# print(covar_matrix_AB)\n",
        "y_A\n"
      ],
      "execution_count": null,
      "outputs": [
        {
          "output_type": "stream",
          "name": "stdout",
          "text": [
            "[[ 1.7590681   1.7368499   1.6930565  ...  1.5278207   1.4998904\n",
            "   1.4357183 ]\n",
            " [-1.6650454  -1.6152278  -1.5118164  ... -1.8927228  -1.8342026\n",
            "  -1.7934386 ]\n",
            " [-0.8319595  -0.83076084 -0.84783757 ... -1.3694695  -1.3875355\n",
            "  -1.3267233 ]\n",
            " ...\n",
            " [ 2.2220764   2.2245333   2.2360864  ...  2.3934639   2.3734941\n",
            "   2.3640356 ]\n",
            " [-0.8865062  -0.88983065 -0.8918859  ... -0.83197767 -0.81949747\n",
            "  -0.79459083]\n",
            " [-1.39297    -1.4166288  -1.4374533  ... -1.334344   -1.4286664\n",
            "  -1.4925677 ]]\n"
          ]
        },
        {
          "output_type": "stream",
          "name": "stderr",
          "text": [
            "/usr/local/lib/python3.7/dist-packages/scipy/stats/_multivariate.py:522: RuntimeWarning: overflow encountered in exp\n",
            "  out = np.exp(self._logpdf(x, mean, psd.U, psd.log_pdet, psd.rank))\n"
          ]
        },
        {
          "output_type": "execute_result",
          "data": {
            "text/plain": [
              "array([2.35380607e+022,             inf, 1.02605225e+230,             inf,\n",
              "       0.00000000e+000, 5.10214650e-152, 0.00000000e+000,             inf,\n",
              "                   inf,             inf,             inf,             inf,\n",
              "                   inf, 0.00000000e+000,             inf,             inf,\n",
              "                   inf,             inf,             inf,             inf])"
            ]
          },
          "metadata": {},
          "execution_count": 60
        }
      ]
    },
    {
      "cell_type": "markdown",
      "metadata": {
        "id": "0Dr9FLMfxbZv"
      },
      "source": [
        "Class B"
      ]
    },
    {
      "cell_type": "code",
      "metadata": {
        "id": "7-tJexsnxdwj"
      },
      "source": [
        "x_B = np.linspace(0, 5, 10, endpoint=False)\n",
        "y_B = multivariate_normal.pdf(x, mean=2.5, cov=0.5);"
      ],
      "execution_count": null,
      "outputs": []
    },
    {
      "cell_type": "markdown",
      "metadata": {
        "id": "aXKrUTcNxc_j"
      },
      "source": [
        ""
      ]
    },
    {
      "cell_type": "markdown",
      "metadata": {
        "id": "wML6aO5RXsfN"
      },
      "source": [
        "### 6. (5 marks) Repeat the above exercise with a 5-nearest neighbor approach in lower dimensions using your favorite dimensionality reduction technique. "
      ]
    },
    {
      "cell_type": "code",
      "metadata": {
        "id": "ug775D6AR-xs"
      },
      "source": [
        "n_neighbors = 5"
      ],
      "execution_count": null,
      "outputs": []
    },
    {
      "cell_type": "code",
      "metadata": {
        "id": "qAHE3zj5XzZh"
      },
      "source": [
        "knn = KNeighborsClassifier(n_neighbors=n_neighbors)"
      ],
      "execution_count": null,
      "outputs": []
    },
    {
      "cell_type": "code",
      "metadata": {
        "colab": {
          "base_uri": "https://localhost:8080/"
        },
        "id": "-6yNIO_pNtqZ",
        "outputId": "d19064f0-ee47-4db0-f164-59bf19ad3fc8"
      },
      "source": [
        "model.fit(data_AB, labels_AB)\n",
        "knn.fit(model.transform(data_AB), labels_AB) \n",
        "# first 10 belong to class A (9) and rest belong to class B (1)\n",
        "print(\"Probabilities:\\n\", knn.predict_proba(model.transform(sample_X_AB))) # probablitity that sample belongs to [A, B] respectively\n",
        "acc_knn_AB = knn.score(model.transform(sample_X_AB), sample_y_AB)  # accuracy\n",
        "print(acc_knn_AB) "
      ],
      "execution_count": null,
      "outputs": [
        {
          "output_type": "stream",
          "name": "stdout",
          "text": [
            "Probabilities:\n",
            " [[0.4 0.6]\n",
            " [0.8 0.2]\n",
            " [1.  0. ]\n",
            " [0.8 0.2]\n",
            " [1.  0. ]\n",
            " [0.8 0.2]\n",
            " [0.4 0.6]\n",
            " [0.8 0.2]\n",
            " [0.  1. ]\n",
            " [1.  0. ]\n",
            " [0.8 0.2]\n",
            " [0.8 0.2]\n",
            " [1.  0. ]\n",
            " [0.6 0.4]\n",
            " [0.8 0.2]\n",
            " [0.8 0.2]\n",
            " [0.8 0.2]\n",
            " [1.  0. ]\n",
            " [0.8 0.2]\n",
            " [1.  0. ]]\n",
            "0.65\n"
          ]
        },
        {
          "output_type": "stream",
          "name": "stderr",
          "text": [
            "/usr/local/lib/python3.7/dist-packages/ipykernel_launcher.py:2: DataConversionWarning: A column-vector y was passed when a 1d array was expected. Please change the shape of y to (n_samples, ), for example using ravel().\n",
            "  \n"
          ]
        }
      ]
    }
  ]
}